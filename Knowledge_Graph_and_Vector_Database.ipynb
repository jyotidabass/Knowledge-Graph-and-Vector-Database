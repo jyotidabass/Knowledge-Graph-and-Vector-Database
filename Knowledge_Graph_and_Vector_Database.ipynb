{
  "nbformat": 4,
  "nbformat_minor": 0,
  "metadata": {
    "colab": {
      "provenance": [],
      "authorship_tag": "ABX9TyMv/vQ9kmseWKH7RIa8Q4Kh",
      "include_colab_link": true
    },
    "kernelspec": {
      "name": "python3",
      "display_name": "Python 3"
    },
    "language_info": {
      "name": "python"
    }
  },
  "cells": [
    {
      "cell_type": "markdown",
      "metadata": {
        "id": "view-in-github",
        "colab_type": "text"
      },
      "source": [
        "<a href=\"https://colab.research.google.com/github/jyotidabass/Knowledge-Graph-and-Vector-Database/blob/main/Knowledge_Graph_and_Vector_Database.ipynb\" target=\"_parent\"><img src=\"https://colab.research.google.com/assets/colab-badge.svg\" alt=\"Open In Colab\"/></a>"
      ]
    },
    {
      "cell_type": "markdown",
      "source": [
        "# **Step-by-step Python code to create and visualize a Knowledge Graph using the networkx and matplotlib libraries**"
      ],
      "metadata": {
        "id": "XC9fejBi3OUe"
      }
    },
    {
      "cell_type": "markdown",
      "source": [
        "**Step1 :Install Required Libraries**"
      ],
      "metadata": {
        "id": "CUWh8QTB3YMq"
      }
    },
    {
      "cell_type": "code",
      "source": [
        "!pip install networkx matplotlib"
      ],
      "metadata": {
        "colab": {
          "base_uri": "https://localhost:8080/"
        },
        "id": "XDbQPNZE2_by",
        "outputId": "3d8dabad-358d-4d95-d1f9-99fcd510e3e0"
      },
      "execution_count": 5,
      "outputs": [
        {
          "output_type": "stream",
          "name": "stdout",
          "text": [
            "Requirement already satisfied: networkx in /usr/local/lib/python3.10/dist-packages (3.4.2)\n",
            "Requirement already satisfied: matplotlib in /usr/local/lib/python3.10/dist-packages (3.8.0)\n",
            "Requirement already satisfied: contourpy>=1.0.1 in /usr/local/lib/python3.10/dist-packages (from matplotlib) (1.3.1)\n",
            "Requirement already satisfied: cycler>=0.10 in /usr/local/lib/python3.10/dist-packages (from matplotlib) (0.12.1)\n",
            "Requirement already satisfied: fonttools>=4.22.0 in /usr/local/lib/python3.10/dist-packages (from matplotlib) (4.55.3)\n",
            "Requirement already satisfied: kiwisolver>=1.0.1 in /usr/local/lib/python3.10/dist-packages (from matplotlib) (1.4.7)\n",
            "Requirement already satisfied: numpy<2,>=1.21 in /usr/local/lib/python3.10/dist-packages (from matplotlib) (1.26.4)\n",
            "Requirement already satisfied: packaging>=20.0 in /usr/local/lib/python3.10/dist-packages (from matplotlib) (24.2)\n",
            "Requirement already satisfied: pillow>=6.2.0 in /usr/local/lib/python3.10/dist-packages (from matplotlib) (11.0.0)\n",
            "Requirement already satisfied: pyparsing>=2.3.1 in /usr/local/lib/python3.10/dist-packages (from matplotlib) (3.2.0)\n",
            "Requirement already satisfied: python-dateutil>=2.7 in /usr/local/lib/python3.10/dist-packages (from matplotlib) (2.8.2)\n",
            "Requirement already satisfied: six>=1.5 in /usr/local/lib/python3.10/dist-packages (from python-dateutil>=2.7->matplotlib) (1.17.0)\n"
          ]
        }
      ]
    },
    {
      "cell_type": "markdown",
      "source": [
        "# Step 2: Import Libraries"
      ],
      "metadata": {
        "id": "Ct8rQ4BD3g0-"
      }
    },
    {
      "cell_type": "code",
      "source": [
        "import networkx as nx\n",
        "import matplotlib.pyplot as plt"
      ],
      "metadata": {
        "id": "Ws0aJyu23Ng0"
      },
      "execution_count": 6,
      "outputs": []
    },
    {
      "cell_type": "markdown",
      "source": [
        "**Step 3: Create a Graph**"
      ],
      "metadata": {
        "id": "4rdzpfPw3qZ9"
      }
    },
    {
      "cell_type": "code",
      "source": [
        "# Create an empty graph\n",
        "G = nx.Graph()\n",
        "# Add nodes\n",
        "G.add_node(\"Apple\")\n",
        "G.add_node(\"Steve Jobs\")\n",
        "G.add_node(\"Tim Cook\")\n",
        "# Add edges\n",
        "G.add_edge(\"Steve Jobs\", \"Apple\", label=\"founded\")\n",
        "G.add_edge(\"Tim Cook\", \"Apple\", label=\"CEO\")"
      ],
      "metadata": {
        "id": "zL8PfnTx3uT9"
      },
      "execution_count": 7,
      "outputs": []
    },
    {
      "cell_type": "markdown",
      "source": [
        "**Step 4: Visualize the Graph**"
      ],
      "metadata": {
        "id": "RX-UrUvO30hb"
      }
    },
    {
      "cell_type": "code",
      "source": [
        "# Set up the layout\n",
        "pos = nx.spring_layout(G)\n",
        "# Draw the nodes\n",
        "nx.draw(G, pos, with_labels=True, node_color='lightblue', node_size=3000, font_size=15, font_weight='bold')\n",
        "# Draw the edges with labels\n",
        "edge_labels = nx.get_edge_attributes(G, 'label')\n",
        "nx.draw_networkx_edge_labels(G, pos, edge_labels=edge_labels, font_color='red')\n",
        "# Show the plot\n",
        "plt.title(\"Simple Knowledge Graph\")\n",
        "plt.show()"
      ],
      "metadata": {
        "colab": {
          "base_uri": "https://localhost:8080/",
          "height": 539
        },
        "id": "hmo1skFU33eB",
        "outputId": "c34a753f-22ca-4a98-ef24-c3bb9a9c6106"
      },
      "execution_count": 8,
      "outputs": [
        {
          "output_type": "display_data",
          "data": {
            "text/plain": [
              "<Figure size 640x480 with 1 Axes>"
            ],
            "image/png": "[encoded data removed]"
          },
          "metadata": {}
        }
      ]
    },
    {
      "cell_type": "markdown",
      "source": [
        "# **Vector database**"
      ],
      "metadata": {
        "id": "Cs-BxlEp5rJw"
      }
    },
    {
      "cell_type": "code",
      "source": [
        "# Step 1: Install required libraries\n",
        "!pip install faiss-cpu\n",
        "# Step 2: Import libraries\n",
        "import faiss\n",
        "import numpy as np\n",
        "# Step 3: Create vectors\n",
        "# Number of vectors and dimension\n",
        "num_vectors = 10\n",
        "dimension = 128\n",
        "# Generate random vectors\n",
        "np.random.seed(42)\n",
        "vectors = np.random.random((num_vectors, dimension)).astype('float32')\n",
        "# Step 4: Build the index\n",
        "# Create a Faiss index (e.g., using the IndexFlatL2 index for L2 distance)\n",
        "index = faiss.IndexFlatL2(dimension)\n",
        "# Add vectors to the index\n",
        "index.add(vectors)\n",
        "# Step 5: Perform a similarity search\n",
        "# Create a query vector\n",
        "query_vector = np.random.random((1, dimension)).astype('float32')\n",
        "# Number of nearest neighbors to find\n",
        "k = 4\n",
        "# Perform the search\n",
        "distances, indices = index.search(query_vector, k)\n",
        "# Step 6: Display the results\n",
        "print(\"Query Vector:\")\n",
        "print(query_vector)\n",
        "print(\"\\nClosest Vectors (Indices and Distances):\")\n",
        "for i, idx in enumerate(indices[0]):\n",
        "    print(f\"Index: {idx}, Distance: {distances[0][i]}\")"
      ],
      "metadata": {
        "colab": {
          "base_uri": "https://localhost:8080/"
        },
        "id": "5osCGi605tvR",
        "outputId": "d53a76c1-60dd-4867-bf17-83669ac6f3e0"
      },
      "execution_count": 10,
      "outputs": [
        {
          "output_type": "stream",
          "name": "stdout",
          "text": [
            "Collecting faiss-cpu\n",
            "  Downloading faiss_cpu-1.9.0.post1-cp310-cp310-manylinux_2_17_x86_64.manylinux2014_x86_64.whl.metadata (4.4 kB)\n",
            "Requirement already satisfied: numpy<3.0,>=1.25.0 in /usr/local/lib/python3.10/dist-packages (from faiss-cpu) (1.26.4)\n",
            "Requirement already satisfied: packaging in /usr/local/lib/python3.10/dist-packages (from faiss-cpu) (24.2)\n",
            "Downloading faiss_cpu-1.9.0.post1-cp310-cp310-manylinux_2_17_x86_64.manylinux2014_x86_64.whl (27.5 MB)\n",
            "\u001b[2K   \u001b[90m━━━━━━━━━━━━━━━━━━━━━━━━━━━━━━━━━━━━━━━━\u001b[0m \u001b[32m27.5/27.5 MB\u001b[0m \u001b[31m54.8 MB/s\u001b[0m eta \u001b[36m0:00:00\u001b[0m\n",
            "\u001b[?25hInstalling collected packages: faiss-cpu\n",
            "Successfully installed faiss-cpu-1.9.0.post1\n",
            "Query Vector:\n",
            "[[0.6181557  0.702465   0.5596487  0.00977085 0.32646132 0.51771164\n",
            "  0.0878665  0.35062695 0.03320311 0.07857849 0.39692327 0.13271575\n",
            "  0.5675408  0.689465   0.8005867  0.20015025 0.16748258 0.10456784\n",
            "  0.63643026 0.70647573 0.03158614 0.93621224 0.05197128 0.54129636\n",
            "  0.7090605  0.8709691  0.71408695 0.80172807 0.33945018 0.8148251\n",
            "  0.08011485 0.89481664 0.5475924  0.81729776 0.45231828 0.6435777\n",
            "  0.52640265 0.7315895  0.08162998 0.06035208 0.24710323 0.15954468\n",
            "  0.87178355 0.21921399 0.97586524 0.3368958  0.18211791 0.7896985\n",
            "  0.6587078  0.4981957  0.55536354 0.7192018  0.22845474 0.9963339\n",
            "  0.97479314 0.6503257  0.19954245 0.68022823 0.07219841 0.0306525\n",
            "  0.2576829  0.46262297 0.8682725  0.7271691  0.74270654 0.42549333\n",
            "  0.345935   0.37103876 0.98764956 0.04010919 0.8670315  0.5786754\n",
            "  0.4386154  0.72525764 0.48666894 0.8734232  0.9007019  0.42172092\n",
            "  0.27682778 0.5923503  0.91236335 0.21066219 0.6229666  0.6315602\n",
            "  0.73311305 0.13156769 0.71582496 0.9090325  0.1796831  0.23754333\n",
            "  0.9713951  0.18097696 0.8543851  0.49227786 0.24723108 0.8707499\n",
            "  0.44530526 0.51481736 0.35923338 0.5929509  0.16352387 0.39108154\n",
            "  0.9694123  0.25813344 0.6567367  0.32519007 0.77347314 0.13087367\n",
            "  0.96982104 0.45378953 0.23605046 0.07349674 0.1697579  0.51977396\n",
            "  0.33700317 0.82888335 0.43088752 0.24871427 0.617145   0.7067772\n",
            "  0.16704191 0.16761921 0.03667143 0.73640203 0.66380453 0.47463086\n",
            "  0.84417045 0.80567014]]\n",
            "\n",
            "Closest Vectors (Indices and Distances):\n",
            "Index: 7, Distance: 18.396808624267578\n",
            "Index: 5, Distance: 18.882883071899414\n",
            "Index: 9, Distance: 20.627445220947266\n",
            "Index: 1, Distance: 20.750022888183594\n"
          ]
        }
      ]
    }
  ]
}